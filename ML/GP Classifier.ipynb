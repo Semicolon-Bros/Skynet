{
 "cells": [
  {
   "cell_type": "code",
   "execution_count": 92,
   "metadata": {
    "ExecuteTime": {
     "end_time": "2020-07-01T04:58:33.922866Z",
     "start_time": "2020-07-01T04:58:33.912070Z"
    }
   },
   "outputs": [],
   "source": [
    "import os\n",
    "import pandas as pd\n",
    "import numpy as np\n",
    "import matplotlib.pyplot as plt\n",
    "import seaborn as sns\n",
    "from jupyterthemes import jtplot\n",
    "from functools import reduce\n",
    "import warnings\n",
    "warnings.filterwarnings('ignore')"
   ]
  },
  {
   "cell_type": "code",
   "execution_count": 93,
   "metadata": {
    "ExecuteTime": {
     "end_time": "2020-07-01T04:58:38.744342Z",
     "start_time": "2020-07-01T04:58:38.723145Z"
    },
    "scrolled": true
   },
   "outputs": [],
   "source": [
    "train = pd.read_csv('data/ML_Train.csv')\n",
    "test = pd.read_csv('data/ML_Test.csv')"
   ]
  },
  {
   "cell_type": "code",
   "execution_count": 104,
   "metadata": {
    "ExecuteTime": {
     "end_time": "2020-07-01T05:04:14.573289Z",
     "start_time": "2020-07-01T05:04:14.454371Z"
    },
    "scrolled": true
   },
   "outputs": [
    {
     "name": "stdout",
     "output_type": "stream",
     "text": [
      "Log Marginal Likelihood (initial): -58.224\n",
      "Accuracy: 1.000000\n",
      "Log Loss: 0.692787\n"
     ]
    }
   ],
   "source": [
    "from sklearn.gaussian_process import GaussianProcessClassifier\n",
    "from sklearn.gaussian_process.kernels import RBF\n",
    "from sklearn.metrics import accuracy_score\n",
    "from sklearn.metrics import log_loss\n",
    "\n",
    "XTr = train[['SP', 'P', 'FD', 'O', 'AC', 'MD', 'CW', 'N', 'FA']].to_numpy()\n",
    "YTr = train[['Label']].to_numpy().flatten()\n",
    "K = 3969.0 * RBF(1)\n",
    "\n",
    "gpc = GaussianProcessClassifier(kernel=K,random_state=0).fit(XTr,YTr)\n",
    "gpc.score(XTr,YTr)\n",
    "print(\"Log Marginal Likelihood (initial): %.3f\" % gpc.log_marginal_likelihood(gpc.kernel_.theta))\n",
    "print(\"Accuracy: %3f\" % accuracy_score(YTr, gpc.predict(XTr)))\n",
    "print(\"Log Loss: %3f\" % log_loss(YTr, gpc.predict_proba(XTr)))"
   ]
  },
  {
   "cell_type": "code",
   "execution_count": null,
   "metadata": {
    "ExecuteTime": {
     "start_time": "2020-07-01T05:17:19.356Z"
    }
   },
   "outputs": [],
   "source": [
    "import scipy.optimize as optimize\n",
    "\n",
    "def skynet(params):\n",
    "    a, b = params\n",
    "    K = a * RBF(b)\n",
    "    gpc = GaussianProcessClassifier(kernel=K,random_state=0).fit(XTr,YTr)\n",
    "    loss = log_loss(YTr, gpc.predict_proba(XTr))\n",
    "    return loss\n",
    "\n",
    "initial_guess = [1.0, 1.0]\n",
    "result = optimize.minimize(skynet, initial_guess)\n",
    "if result.success: print(result.x)\n",
    "else: raise ValueError(result.message)"
   ]
  },
  {
   "cell_type": "code",
   "execution_count": 123,
   "metadata": {
    "ExecuteTime": {
     "end_time": "2020-07-01T05:15:38.862184Z",
     "start_time": "2020-07-01T05:15:38.849551Z"
    }
   },
   "outputs": [],
   "source": [
    "a=(2.0**np.linspace(1000,34234,214124))\n",
    "b=(np.linspace(12,2131,124124))\n",
    "error=np.zeros((len(a),len(b)))"
   ]
  },
  {
   "cell_type": "code",
   "execution_count": 124,
   "metadata": {
    "ExecuteTime": {
     "end_time": "2020-07-01T05:15:39.416811Z",
     "start_time": "2020-07-01T05:15:39.410339Z"
    }
   },
   "outputs": [
    {
     "data": {
      "text/plain": [
       "(214124, 124124)"
      ]
     },
     "execution_count": 124,
     "metadata": {},
     "output_type": "execute_result"
    }
   ],
   "source": [
    "error.shape"
   ]
  },
  {
   "cell_type": "code",
   "execution_count": null,
   "metadata": {
    "ExecuteTime": {
     "start_time": "2020-07-01T05:15:44.516Z"
    }
   },
   "outputs": [],
   "source": [
    "for eachA in range(len(a)):\n",
    "    for eachB in range(len(b)):\n",
    "        error[eachA][eachB] = skynet([a[eachA],b[eachB]])"
   ]
  },
  {
   "cell_type": "code",
   "execution_count": null,
   "metadata": {},
   "outputs": [],
   "source": []
  }
 ],
 "metadata": {
  "kernelspec": {
   "display_name": "Python 3",
   "language": "python",
   "name": "python3"
  },
  "language_info": {
   "codemirror_mode": {
    "name": "ipython",
    "version": 3
   },
   "file_extension": ".py",
   "mimetype": "text/x-python",
   "name": "python",
   "nbconvert_exporter": "python",
   "pygments_lexer": "ipython3",
   "version": "3.7.6"
  }
 },
 "nbformat": 4,
 "nbformat_minor": 2
}
