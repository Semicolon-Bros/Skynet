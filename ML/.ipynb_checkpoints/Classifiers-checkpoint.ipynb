{
 "cells": [
  {
   "cell_type": "code",
   "execution_count": 8,
   "metadata": {
    "ExecuteTime": {
     "end_time": "2020-07-03T17:12:56.259581Z",
     "start_time": "2020-07-03T17:12:56.242316Z"
    }
   },
   "outputs": [],
   "source": [
    "import os\n",
    "import pandas as pd\n",
    "import numpy as np\n",
    "import matplotlib.pyplot as plt\n",
    "import seaborn as sns\n",
    "from jupyterthemes import jtplot\n",
    "from functools import reduce\n",
    "import warnings\n",
    "warnings.filterwarnings('ignore')\n",
    "\n",
    "from sklearn.metrics import accuracy_score\n",
    "from sklearn.metrics import log_loss\n",
    "from sklearn.metrics import mean_squared_error\n",
    "from math import sqrt\n",
    "\n",
    "from jupyterthemes import jtplot\n",
    "jtplot.style(theme='oceans16', context='notebook', ticks=True, grid=False)"
   ]
  },
  {
   "cell_type": "markdown",
   "metadata": {},
   "source": [
    "## Data ETL"
   ]
  },
  {
   "cell_type": "code",
   "execution_count": 71,
   "metadata": {
    "ExecuteTime": {
     "end_time": "2020-07-03T18:08:14.251821Z",
     "start_time": "2020-07-03T18:08:14.236604Z"
    },
    "scrolled": true
   },
   "outputs": [],
   "source": [
    "\n",
    "\n",
    "def data(choice):\n",
    "    # =======================\n",
    "    # Training Data (84 rows)\n",
    "    # =======================\n",
    "    train = pd.read_csv('data/ML_Train.csv')\n",
    "    test = pd.read_csv('data/ML_Test.csv')\n",
    "\n",
    "    XTr = train[['SP', 'P', 'FD', 'O', 'AC', 'MD', 'CW', 'N', 'FA']].to_numpy()\n",
    "    YTr = train[['Label']].to_numpy().flatten()\n",
    "    YTrProb = train[['Probability']].to_numpy().flatten()\n",
    "\n",
    "    # =======================\n",
    "    # Testing Data (800 rows)\n",
    "    # =======================\n",
    "    L = test.copy()\n",
    "    mask1 = (L['Probability'] >= 0.5)\n",
    "    mask0 = (L['Probability'] < 0.5)\n",
    "    L['Label'][mask1] = 1.0\n",
    "    L['Label'][mask0] = 0.0\n",
    "\n",
    "    XTe = test[['SP', 'P', 'FD', 'O', 'AC', 'MD', 'CW', 'N', 'FA']].to_numpy()\n",
    "    YTe = L[['Label']].to_numpy().flatten()\n",
    "    YTeProb = test[['Probability']].to_numpy().flatten()\n",
    "\n",
    "\n",
    "    # =======================\n",
    "    # Full Data (884 rows)\n",
    "    # =======================\n",
    "    frames = [train, L]\n",
    "    full = pd.concat(frames)\n",
    "\n",
    "    X = full[['SP', 'P', 'FD', 'O', 'AC', 'MD', 'CW', 'N', 'FA']].to_numpy()\n",
    "    Y = full[['Label']].to_numpy().flatten()\n",
    "    YProb = full[['Probability']].to_numpy().flatten()\n",
    "    \n",
    "    if choice == 884: return X.copy(),Y.copy(),YProb.copy()\n",
    "    elif choice == 800: return XTe, YTe, YTeProb\n",
    "    else: return XTr, YTr, YTrProb\n",
    "    "
   ]
  },
  {
   "cell_type": "markdown",
   "metadata": {},
   "source": [
    "## Classifiers\n",
    "<br> \n",
    "### Gaussian Process Classifiers\n",
    "#### Training Size: 84(Hand Labeled)"
   ]
  },
  {
   "cell_type": "code",
   "execution_count": 3,
   "metadata": {
    "cell_style": "center",
    "scrolled": false
   },
   "outputs": [
    {
     "name": "stdout",
     "output_type": "stream",
     "text": [
      "Fit Score: 0.880952\n",
      "Log Marginal Likelihood: -39.495\n",
      "Accuracy: 0.880952\n",
      "TR|Log Loss: 0.323553\n",
      "TR|RMS Error of Probablities: 0.197477\n",
      "\n",
      "TE|Log Loss: 0.474037\n",
      "TE|RMS Error of Probablities: 0.265399\n"
     ]
    }
   ],
   "source": [
    "from sklearn.gaussian_process import GaussianProcessClassifier\n",
    "from sklearn.gaussian_process.kernels import RBF\n",
    "\n",
    "K = 1**2 * RBF(1)\n",
    "gpc = GaussianProcessClassifier(kernel=K,n_restarts_optimizer=100).fit(XTr,YTr)\n",
    "\n",
    "print(\"Fit Score: %3f\" % gpc.score(XTr,YTr))\n",
    "print(\"Log Marginal Likelihood: %.3f\" % gpc.log_marginal_likelihood(gpc.kernel_.theta))\n",
    "print(\"Accuracy: %3f\" % accuracy_score(YTr, gpc.predict(XTr)))\n",
    "print(\"TR|Log Loss: %3f\" % log_loss(YTr, gpc.predict_proba(XTr)))\n",
    "print(\"TR|RMS Error of Probablities: %3f\" % sqrt(mean_squared_error(YTrProb, gpc.predict_proba(XTr)[:,1])))\n",
    "print()\n",
    "print(\"TE|Log Loss: %3f\" % log_loss(YTe, gpc.predict_proba(XTe)))\n",
    "print(\"TE|RMS Error of Probablities: %3f\" % sqrt(mean_squared_error(YTeProb, gpc.predict_proba(XTe)[:,1])))\n",
    "\n",
    "# Runs:                         1                 100                 1000\n",
    "# ----------------------------------------------------------------------------------\n",
    "# Fit Score:                    1.000000          0.880952            ~ \n",
    "# Log Marginal Likelihood:      -58.224           -39.495             ~ \n",
    "# Accuracy:                     1.000000          0.880952            ~  \n",
    "# TR|Log Loss:                  0.692716          0.323553            ~ \n",
    "# TR|RMS Error of Probablities: 0.380603          0.197477            ~ \n",
    "\n",
    "# TE|Log Loss:                  0.693147          0.474037            ~\n",
    "# TE|RMS Error of Probablities: 0.371212          0.265399            ~"
   ]
  },
  {
   "cell_type": "markdown",
   "metadata": {},
   "source": [
    "#### Training Size: 884(Full Dataset)"
   ]
  },
  {
   "cell_type": "code",
   "execution_count": 4,
   "metadata": {},
   "outputs": [
    {
     "name": "stdout",
     "output_type": "stream",
     "text": [
      "Fit Score: 0.856635\n",
      "Log Marginal Likelihood: -326.251\n",
      "Accuracy: 0.856635\n",
      "Log Loss: 0.319140\n",
      "RMS Error of Probablities: 0.211260\n"
     ]
    }
   ],
   "source": [
    "from sklearn.gaussian_process import GaussianProcessClassifier\n",
    "from sklearn.gaussian_process.kernels import RBF\n",
    "\n",
    "K = 1**2 * RBF(1)\n",
    "gpc = GaussianProcessClassifier(kernel=K, n_restarts_optimizer=10).fit(X,Y)\n",
    "\n",
    "print(\"Fit Score: %3f\" % gpc.score(X,Y))\n",
    "print(\"Log Marginal Likelihood: %.3f\" % gpc.log_marginal_likelihood(gpc.kernel_.theta))\n",
    "print(\"Accuracy: %3f\" % accuracy_score(Y, gpc.predict(X)))\n",
    "print(\"Log Loss: %3f\" % log_loss(Y, gpc.predict_proba(X)))\n",
    "print(\"RMS Error of Probablities: %3f\" % sqrt(mean_squared_error(YProb, gpc.predict_proba(X)[:,1])))\n",
    "\n",
    "# Runs:                      1                 100                 1000\n",
    "# ----------------------------------------------------------------------------\n",
    "# Fit Score:                 1.000000          0.856635            ~                \n",
    "# Log Marginal Likelihood:   -585.016          -326.251            ~\n",
    "# Accuracy:                  1.000000          0.856635            ~ \n",
    "# Log Loss:                  0.693102          0.319140            ~  \n",
    "# RMS Error of Probablities: 0.372156          0.211260            ~ "
   ]
  },
  {
   "cell_type": "markdown",
   "metadata": {},
   "source": [
    "#### Optimizor"
   ]
  },
  {
   "cell_type": "code",
   "execution_count": 54,
   "metadata": {},
   "outputs": [
    {
     "data": {
      "image/png": "[encoded data removed]",
      "text/plain": [
       "<Figure size 1080x504 with 1 Axes>"
      ]
     },
     "metadata": {},
     "output_type": "display_data"
    }
   ],
   "source": [
    "from sklearn.gaussian_process import GaussianProcessClassifier\n",
    "from sklearn.gaussian_process.kernels import RBF\n",
    "from scipy.interpolate import interp1d\n",
    "\n",
    "from jupyterthemes import jtplot\n",
    "jtplot.style(theme='oceans16', context='notebook', ticks=True, grid=False)\n",
    "\n",
    "def skynetGP(N):\n",
    "    K = 1**2 * RBF(1)\n",
    "    gpc = GaussianProcessClassifier(kernel=K, n_restarts_optimizer=N).fit(X,Y)\n",
    "    errorTr = sqrt(mean_squared_error(YTrProb, gpc.predict_proba(XTr)[:,1]))\n",
    "    errorTe = sqrt(mean_squared_error(YTeProb, gpc.predict_proba(XTe)[:,1]))\n",
    "    return errorTr, errorTe\n",
    "\n",
    "errorTr, errorTe, Ns = [], [], list(range(1,11))\n",
    "for N in Ns:\n",
    "    Tr,Te = skynetGP(N)\n",
    "    errorTr.append(Tr)\n",
    "    errorTe.append(Te)\n",
    "\n",
    "# =======================\n",
    "# Error Plotting\n",
    "# =======================\n",
    "Ns = np.array(Ns)\n",
    "NsNEW = np.linspace(Ns.min(), Ns.max(),500)\n",
    "\n",
    "f = interp1d(Ns, errorTr, kind='quadratic')\n",
    "f1 = interp1d(Ns, errorTe, kind='quadratic')\n",
    "errorTrNEW, errorTeNEW = f(NsNEW), f1(NsNEW)\n",
    "\n",
    "plt.figure(figsize=[15, 7])\n",
    "plt.plot(NsNEW,errorTrNEW, label=\"Error(Train)\")\n",
    "plt.plot(NsNEW,errorTeNEW, label=\"Error(Test)\")\n",
    "plt.scatter (Ns, errorTr)\n",
    "plt.scatter (Ns, errorTe)\n",
    "plt.legend()\n",
    "plt.show()\n",
    "    "
   ]
  },
  {
   "cell_type": "markdown",
   "metadata": {},
   "source": [
    "### Gaussian Naive Bayes Classifier"
   ]
  },
  {
   "cell_type": "code",
   "execution_count": 55,
   "metadata": {},
   "outputs": [
    {
     "name": "stdout",
     "output_type": "stream",
     "text": [
      "Fit Score: 0.833333\n",
      "Log Marginal Likelihood: \n",
      "Accuracy: 0.833333\n",
      "TR|Log Loss: 0.503909\n",
      "TR|RMS Error of Probablities: 0.300893\n",
      "\n",
      "TE|Log Loss: 1.574169\n",
      "TE|RMS Error of Probablities: 0.390764\n"
     ]
    }
   ],
   "source": [
    "from sklearn.naive_bayes import GaussianNB\n",
    "\n",
    "nb = GaussianNB()\n",
    "nb.fit(XTr,YTr)\n",
    "\n",
    "print(\"Fit Score: %3f\" % nb.score(XTr,YTr))\n",
    "print(\"Log Marginal Likelihood: \")\n",
    "print(\"Accuracy: %3f\" % accuracy_score(YTr, nb.predict(XTr)))\n",
    "print(\"TR|Log Loss: %3f\" % log_loss(YTr, nb.predict_proba(XTr)))\n",
    "print(\"TR|RMS Error of Probablities: %3f\" % sqrt(mean_squared_error(YTrProb, nb.predict_proba(XTr)[:,1])))\n",
    "print()\n",
    "print(\"TE|Log Loss: %3f\" % log_loss(YTe, nb.predict_proba(XTe)))\n",
    "print(\"TE|RMS Error of Probablities: %3f\" % sqrt(mean_squared_error(YTeProb, nb.predict_proba(XTe)[:,1])))        "
   ]
  },
  {
   "cell_type": "markdown",
   "metadata": {},
   "source": [
    "### Support Vector Classifiers"
   ]
  },
  {
   "cell_type": "code",
   "execution_count": 3,
   "metadata": {
    "ExecuteTime": {
     "end_time": "2020-07-03T17:12:18.919167Z",
     "start_time": "2020-07-03T17:12:18.640057Z"
    }
   },
   "outputs": [
    {
     "name": "stdout",
     "output_type": "stream",
     "text": [
      "Fit Score: 0.952381\n",
      "Accuracy: 0.952381\n",
      "Log Loss: 0.292349\n",
      "RMS Error of Probablities: 0.256357\n",
      "\n",
      "\n",
      "\n",
      "Fit Score: 0.864929\n",
      "Accuracy: 0.864929\n",
      "Log Loss: 0.309166\n",
      "RMS Error of Probablities: 0.203578\n"
     ]
    }
   ],
   "source": [
    "# =======================\n",
    "# Training ~ 84 records\n",
    "# =======================\n",
    "from sklearn import svm\n",
    "svc = svm.SVC(probability=True, C=20)\n",
    "svc.fit(XTr, YTr)\n",
    "\n",
    "print(\"Fit Score: %3f\" % svc.score(XTr,YTr)) \n",
    "print(\"Accuracy: %3f\" % accuracy_score(YTr, svc.predict(XTr)))\n",
    "print(\"Log Loss: %3f\" % log_loss(YTr, svc.predict_proba(XTr)))\n",
    "print(\"RMS Error of Probablities: %3f\" % sqrt(mean_squared_error(YProb, svc.predict_proba(X)[:,1])))\n",
    "\n",
    "print('\\n\\n')\n",
    "\n",
    "# =======================\n",
    "# Training ~ 884 records\n",
    "# =======================\n",
    "svc = svm.SVC(probability=True, C=5)\n",
    "svc.fit(X, Y)\n",
    "\n",
    "print(\"Fit Score: %3f\" % svc.score(X,Y))\n",
    "print(\"Accuracy: %3f\" % accuracy_score(Y, svc.predict(X)))\n",
    "print(\"Log Loss: %3f\" % log_loss(Y, svc.predict_proba(X)))\n",
    "print(\"RMS Error of Probablities: %3f\" % sqrt(mean_squared_error(YProb, svc.predict_proba(X)[:,1])))\n"
   ]
  },
  {
   "cell_type": "code",
   "execution_count": 133,
   "metadata": {
    "ExecuteTime": {
     "end_time": "2020-07-04T04:17:17.707561Z",
     "start_time": "2020-07-04T04:17:14.113081Z"
    }
   },
   "outputs": [
    {
     "name": "stdout",
     "output_type": "stream",
     "text": [
      "Best Accuracy(high) => [[30.          0.86120092]]\n"
     ]
    },
    {
     "data": {
      "image/png": "[encoded data removed]",
      "text/plain": [
       "<Figure size 1080x504 with 1 Axes>"
      ]
     },
     "metadata": {},
     "output_type": "display_data"
    }
   ],
   "source": [
    "# =======================\n",
    "# Training Data (884 rows)\n",
    "# =======================\n",
    "from scipy.interpolate import interp1d\n",
    "from sklearn import svm\n",
    "\n",
    "def skynetSVC(TRAIN_SIZE,C):\n",
    "    X, Y, YProb = data(884)\n",
    "    np.random.shuffle(X)\n",
    "    np.random.shuffle(Y)\n",
    "    svc = svm.SVC(probability=True, C=C)\n",
    "    svc.fit(X[:TRAIN_SIZE], Y[:TRAIN_SIZE])\n",
    "    accuracy = 1-(mean_squared_error(YProb, svc.predict_proba(X)[:,1]))\n",
    "    return accuracy\n",
    "\n",
    "CRange = list(range(10,110,10))\n",
    "metric = []\n",
    "for C in CRange:\n",
    "    TRAIN_SIZE = int((884*100)/100)\n",
    "    A = skynetSVC(TRAIN_SIZE,C)\n",
    "    metric.append([C,A])\n",
    "    \n",
    "metricData = np.array(metric)\n",
    "print(\"Best Accuracy(high) =>\",metricData[metricData[:,1] == np.amax(metricData[:,1])])\n",
    "\n",
    "# =======================\n",
    "# Plotting C v Accuracy\n",
    "# =======================\n",
    "CRange = np.array(metricData[:,0])\n",
    "C = np.linspace(CRange.min(), CRange.max(),500)\n",
    "fA = interp1d(CRange, metricData[:,1], kind='quadratic')\n",
    "\n",
    "\n",
    "plt.figure(figsize=[15, 7])\n",
    "plt.plot(C,fA(C), label=\"Accuracy\")\n",
    "plt.scatter (metricData[:,0], metricData[:,1])\n",
    "plt.legend()\n",
    "plt.show()\n"
   ]
  },
  {
   "cell_type": "code",
   "execution_count": null,
   "metadata": {},
   "outputs": [],
   "source": []
  },
  {
   "cell_type": "code",
   "execution_count": null,
   "metadata": {},
   "outputs": [],
   "source": []
  }
 ],
 "metadata": {
  "kernelspec": {
   "display_name": "Python 3.7.6 64-bit",
   "language": "python",
   "name": "python37664bitda70a9f424554bf38abb446157f96cf0"
  },
  "language_info": {
   "codemirror_mode": {
    "name": "ipython",
    "version": 3
   },
   "file_extension": ".py",
   "mimetype": "text/x-python",
   "name": "python",
   "nbconvert_exporter": "python",
   "pygments_lexer": "ipython3",
   "version": "3.7.6"
  }
 },
 "nbformat": 4,
 "nbformat_minor": 2
}
