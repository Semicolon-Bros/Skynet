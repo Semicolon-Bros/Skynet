{
 "cells": [
  {
   "cell_type": "code",
   "execution_count": 213,
   "metadata": {
    "ExecuteTime": {
     "end_time": "2020-07-02T13:25:54.426664Z",
     "start_time": "2020-07-02T13:25:54.390553Z"
    }
   },
   "outputs": [],
   "source": [
    "import os\n",
    "import pandas as pd\n",
    "import numpy as np\n",
    "import matplotlib.pyplot as plt\n",
    "import seaborn as sns\n",
    "from jupyterthemes import jtplot\n",
    "from functools import reduce\n",
    "import warnings\n",
    "warnings.filterwarnings('ignore')\n",
    "\n",
    "from sklearn.metrics import accuracy_score\n",
    "from sklearn.metrics import log_loss\n",
    "from sklearn.metrics import mean_squared_error\n",
    "from math import sqrt"
   ]
  },
  {
   "cell_type": "markdown",
   "metadata": {},
   "source": [
    "### Training Data"
   ]
  },
  {
   "cell_type": "code",
   "execution_count": 214,
   "metadata": {
    "ExecuteTime": {
     "end_time": "2020-07-02T13:25:54.498720Z",
     "start_time": "2020-07-02T13:25:54.439618Z"
    },
    "scrolled": true
   },
   "outputs": [],
   "source": [
    "train = pd.read_csv('data/ML_Train.csv')\n",
    "test = pd.read_csv('data/ML_Test.csv')\n",
    "\n",
    "XTr = train[['SP', 'P', 'FD', 'O', 'AC', 'MD', 'CW', 'N', 'FA']].to_numpy()\n",
    "YTr = train[['Label']].to_numpy().flatten()\n",
    "YTrProb = train[['Probability']].to_numpy().flatten()"
   ]
  },
  {
   "cell_type": "markdown",
   "metadata": {},
   "source": [
    "### Testing Data"
   ]
  },
  {
   "cell_type": "code",
   "execution_count": 215,
   "metadata": {
    "ExecuteTime": {
     "end_time": "2020-07-02T13:25:54.540725Z",
     "start_time": "2020-07-02T13:25:54.505426Z"
    }
   },
   "outputs": [],
   "source": [
    "L = test.copy()\n",
    "mask1 = (L['Probability'] >= 0.5)\n",
    "mask0 = (L['Probability'] < 0.5)\n",
    "L['Label'][mask1] = 1.0\n",
    "L['Label'][mask0] = 0.0\n",
    "\n",
    "XTe = test[['SP', 'P', 'FD', 'O', 'AC', 'MD', 'CW', 'N', 'FA']].to_numpy()\n",
    "YTe = L[['Label']].to_numpy().flatten()\n",
    "YTeProb = test[['Probability']].to_numpy().flatten()"
   ]
  },
  {
   "cell_type": "markdown",
   "metadata": {},
   "source": [
    "### Entire Data"
   ]
  },
  {
   "cell_type": "code",
   "execution_count": 216,
   "metadata": {
    "ExecuteTime": {
     "end_time": "2020-07-02T13:25:54.566725Z",
     "start_time": "2020-07-02T13:25:54.544398Z"
    }
   },
   "outputs": [],
   "source": [
    "frames = [train, L]\n",
    "full = pd.concat(frames)\n",
    "\n",
    "X = full[['SP', 'P', 'FD', 'O', 'AC', 'MD', 'CW', 'N', 'FA']].to_numpy()\n",
    "Y = full[['Label']].to_numpy().flatten()\n",
    "YProb = full[['Probability']].to_numpy().flatten()"
   ]
  },
  {
   "cell_type": "markdown",
   "metadata": {},
   "source": [
    "### Gaussian Process Classifiers"
   ]
  },
  {
   "cell_type": "code",
   "execution_count": 210,
   "metadata": {
    "ExecuteTime": {
     "end_time": "2020-07-02T05:36:45.921975Z",
     "start_time": "2020-07-02T05:35:39.562536Z"
    },
    "cell_style": "center",
    "scrolled": false
   },
   "outputs": [
    {
     "name": "stdout",
     "output_type": "stream",
     "text": [
      "Fit Score: 0.880952\n",
      "Log Marginal Likelihood: -39.495\n",
      "Accuracy: 0.880952\n",
      "TR|Log Loss: 0.323553\n",
      "TR|RMS Error of Probablities: 0.197477\n",
      "\n",
      "TE|Log Loss: 0.474037\n",
      "TE|RMS Error of Probablities: 0.265399\n"
     ]
    }
   ],
   "source": [
    "# Training Size: 84(Hand Labeled)\n",
    "from sklearn.gaussian_process import GaussianProcessClassifier\n",
    "from sklearn.gaussian_process.kernels import RBF\n",
    "\n",
    "K = 1**2 * RBF(1)\n",
    "gpc = GaussianProcessClassifier(kernel=K,n_restarts_optimizer=100).fit(XTr,YTr)\n",
    "\n",
    "print(\"Fit Score: %3f\" % gpc.score(XTr,YTr))\n",
    "print(\"Log Marginal Likelihood: %.3f\" % gpc.log_marginal_likelihood(gpc.kernel_.theta))\n",
    "print(\"Accuracy: %3f\" % accuracy_score(YTr, gpc.predict(XTr)))\n",
    "print(\"TR|Log Loss: %3f\" % log_loss(YTr, gpc.predict_proba(XTr)))\n",
    "print(\"TR|RMS Error of Probablities: %3f\" % sqrt(mean_squared_error(YTrProb, gpc.predict_proba(XTr)[:,1])))\n",
    "print()\n",
    "print(\"TE|Log Loss: %3f\" % log_loss(YTe, gpc.predict_proba(XTe)))\n",
    "print(\"TE|RMS Error of Probablities: %3f\" % sqrt(mean_squared_error(YTeProb, gpc.predict_proba(XTe)[:,1])))\n",
    "\n",
    "# Runs:                         1                 100                 1000\n",
    "# ----------------------------------------------------------------------------------\n",
    "# Fit Score:                    1.000000          0.880952            ~ \n",
    "# Log Marginal Likelihood:      -58.224           -39.495             ~ \n",
    "# Accuracy:                     1.000000          0.880952            ~  \n",
    "# TR|Log Loss:                  0.692716          0.323553            ~ \n",
    "# TR|RMS Error of Probablities: 0.380603          0.197477            ~ \n",
    "\n",
    "# TE|Log Loss:                  0.693147          0.474037            ~\n",
    "# TE|RMS Error of Probablities: 0.371212          0.265399            ~"
   ]
  },
  {
   "cell_type": "code",
   "execution_count": 211,
   "metadata": {
    "ExecuteTime": {
     "end_time": "2020-07-02T13:04:31.329878Z",
     "start_time": "2020-07-02T05:37:50.797296Z"
    }
   },
   "outputs": [
    {
     "name": "stdout",
     "output_type": "stream",
     "text": [
      "Fit Score: 0.856635\n",
      "Log Marginal Likelihood: -326.251\n",
      "Accuracy: 0.856635\n",
      "Log Loss: 0.319140\n",
      "RMS Error of Probablities: 0.211260\n"
     ]
    }
   ],
   "source": [
    "# Training Size: 884(Full Dataset)\n",
    "from sklearn.gaussian_process import GaussianProcessClassifier\n",
    "from sklearn.gaussian_process.kernels import RBF\n",
    "\n",
    "K = 1**2 * RBF(1)\n",
    "gpc = GaussianProcessClassifier(kernel=K, n_restarts_optimizer=1000).fit(X,Y)\n",
    "\n",
    "print(\"Fit Score: %3f\" % gpc.score(X,Y))\n",
    "print(\"Log Marginal Likelihood: %.3f\" % gpc.log_marginal_likelihood(gpc.kernel_.theta))\n",
    "print(\"Accuracy: %3f\" % accuracy_score(Y, gpc.predict(X)))\n",
    "print(\"Log Loss: %3f\" % log_loss(Y, gpc.predict_proba(X)))\n",
    "print(\"RMS Error of Probablities: %3f\" % sqrt(mean_squared_error(YProb, gpc.predict_proba(X)[:,1])))\n",
    "\n",
    "# Runs:                      1                 100                 1000\n",
    "# ----------------------------------------------------------------------------\n",
    "# Fit Score:                 1.000000          0.856635            ~                \n",
    "# Log Marginal Likelihood:   -585.016          -326.251            ~\n",
    "# Accuracy:                  1.000000          0.856635            ~ \n",
    "# Log Loss:                  0.693102          0.319140            ~  \n",
    "# RMS Error of Probablities: 0.372156          0.211260            ~ "
   ]
  },
  {
   "cell_type": "markdown",
   "metadata": {},
   "source": [
    "### Gaussian Naive Bayes Classifier"
   ]
  },
  {
   "cell_type": "code",
   "execution_count": 222,
   "metadata": {
    "ExecuteTime": {
     "end_time": "2020-07-02T13:30:12.149588Z",
     "start_time": "2020-07-02T13:30:12.126707Z"
    }
   },
   "outputs": [
    {
     "name": "stdout",
     "output_type": "stream",
     "text": [
      "Fit Score: 0.833333\n",
      "Log Marginal Likelihood: \n",
      "Accuracy: 0.833333\n",
      "TR|Log Loss: 0.503909\n",
      "TR|RMS Error of Probablities: 0.300893\n",
      "\n",
      "TE|Log Loss: 1.574169\n",
      "TE|RMS Error of Probablities: 0.390764\n"
     ]
    }
   ],
   "source": [
    "from sklearn.naive_bayes import GaussianNB\n",
    "\n",
    "nb = GaussianNB()\n",
    "nb.fit(XTr,YTr)\n",
    "\n",
    "print(\"Fit Score: %3f\" % nb.score(XTr,YTr))\n",
    "print(\"Log Marginal Likelihood: \")\n",
    "print(\"Accuracy: %3f\" % accuracy_score(YTr, nb.predict(XTr)))\n",
    "print(\"TR|Log Loss: %3f\" % log_loss(YTr, nb.predict_proba(XTr)))\n",
    "print(\"TR|RMS Error of Probablities: %3f\" % sqrt(mean_squared_error(YTrProb, nb.predict_proba(XTr)[:,1])))\n",
    "print()\n",
    "print(\"TE|Log Loss: %3f\" % log_loss(YTe, nb.predict_proba(XTe)))\n",
    "print(\"TE|RMS Error of Probablities: %3f\" % sqrt(mean_squared_error(YTeProb, nb.predict_proba(XTe)[:,1])))\n",
    "\n",
    "# Runs:                         1                 100                 1000\n",
    "# ----------------------------------------------------------------------------------\n",
    "# Fit Score:                    0.833333          0.880952            ~ \n",
    "# Log Marginal Likelihood:      \n",
    "# Accuracy:                     1.000000          0.880952            ~  \n",
    "# TR|Log Loss:                  0.503909          0.323553            ~ \n",
    "# TR|RMS Error of Probablities: 0.503909          0.197477            ~ \n",
    "\n",
    "# TE|Log Loss:                  1.574169          0.474037            ~\n",
    "# TE|RMS Error of Probablities: 0.503909          0.265399            ~"
   ]
  },
  {
   "cell_type": "markdown",
   "metadata": {},
   "source": [
    "### Support Vector Classifiers"
   ]
  },
  {
   "cell_type": "code",
   "execution_count": 229,
   "metadata": {
    "ExecuteTime": {
     "end_time": "2020-07-02T13:33:05.238551Z",
     "start_time": "2020-07-02T13:33:05.221688Z"
    }
   },
   "outputs": [
    {
     "name": "stdout",
     "output_type": "stream",
     "text": [
      "Fit Score: 0.880952\n",
      "Log Marginal Likelihood: \n",
      "Accuracy: 0.880952\n",
      "Log Loss: 0.310261\n",
      "RMS Error of Probablities: 0.213975\n"
     ]
    }
   ],
   "source": [
    "from sklearn import svm\n",
    "svc = svm.SVC(probability=True, C=1)\n",
    "svc.fit(XTr, YTr)\n",
    "\n",
    "print(\"Fit Score: %3f\" % svc.score(XTr,YTr))\n",
    "print(\"Log Marginal Likelihood: \")\n",
    "print(\"Accuracy: %3f\" % accuracy_score(YTr, svc.predict(XTr)))\n",
    "print(\"Log Loss: %3f\" % log_loss(YTr, svc.predict_proba(XTr)))\n",
    "print(\"RMS Error of Probablities: %3f\" % sqrt(mean_squared_error(YTrProb, svc.predict_proba(XTr)[:,1])))"
   ]
  }
 ],
 "metadata": {
  "kernelspec": {
   "display_name": "Python 3",
   "language": "python",
   "name": "python3"
  },
  "language_info": {
   "codemirror_mode": {
    "name": "ipython",
    "version": 3
   },
   "file_extension": ".py",
   "mimetype": "text/x-python",
   "name": "python",
   "nbconvert_exporter": "python",
   "pygments_lexer": "ipython3",
   "version": "3.7.6"
  }
 },
 "nbformat": 4,
 "nbformat_minor": 2
}
