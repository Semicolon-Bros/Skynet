{
 "cells": [
  {
   "cell_type": "code",
   "execution_count": 14,
   "metadata": {},
   "outputs": [],
   "source": [
    "import pandas as pd\n",
    "from sklearn import linear_model\n",
    "import numpy as np\n",
    "from sklearn.metrics import r2_score"
   ]
  },
  {
   "cell_type": "code",
   "execution_count": 34,
   "metadata": {},
   "outputs": [
    {
     "data": {
      "text/plain": [
       "0.4759663264093148"
      ]
     },
     "execution_count": 34,
     "metadata": {},
     "output_type": "execute_result"
    }
   ],
   "source": [
    "mergedData = pd.read_csv(\"data/ML_Train.csv\");\n",
    "\n",
    "#Splitting dataset into 75% training and 25% testing data\n",
    "split = np.random.rand(len(mergedData)) < 0.75\n",
    "train = mergedData[split]\n",
    "test = mergedData[~split]\n",
    "\n",
    "\n",
    "#Creating a regression model\n",
    "regr = linear_model.LinearRegression()\n",
    "\n",
    "#Set dependent and independent variables\n",
    "X_train = train[['SP', 'P', 'O', 'AC', 'MD', 'CW', 'N', 'FA']]\n",
    "y_train = train[['Probability']]\n",
    "regr.fit(X_train, y_train) \n",
    "\n",
    "#Predicting dependent variables in testing dataset\n",
    "X_test = test[['SP', 'P', 'O', 'AC', 'MD', 'CW', 'N', 'FA']]\n",
    "y_test = test[['Probability']]\n",
    "predictedProbability = regr.predict(X_test)\n",
    "\n",
    "# Testing the accuracy of the linear model using R-squared\n",
    "r2_score(y_test, predictedProbability)\n"
   ]
  },
  {
   "cell_type": "code",
   "execution_count": null,
   "metadata": {},
   "outputs": [],
   "source": []
  }
 ],
 "metadata": {
  "kernelspec": {
   "display_name": "Python 3",
   "language": "python",
   "name": "python3"
  },
  "language_info": {
   "codemirror_mode": {
    "name": "ipython",
    "version": 3
   },
   "file_extension": ".py",
   "mimetype": "text/x-python",
   "name": "python",
   "nbconvert_exporter": "python",
   "pygments_lexer": "ipython3",
   "version": "3.7.1"
  }
 },
 "nbformat": 4,
 "nbformat_minor": 2
}
