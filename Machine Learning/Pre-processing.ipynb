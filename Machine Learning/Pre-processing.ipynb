{
 "cells": [
  {
   "cell_type": "code",
   "execution_count": 13,
   "metadata": {},
   "outputs": [],
   "source": [
    "import numpy as np\n",
    "import pandas as pd\n",
    "import os"
   ]
  },
  {
   "cell_type": "code",
   "execution_count": 50,
   "metadata": {},
   "outputs": [],
   "source": [
    "#Utility function to delete last 3 characters from a string\n",
    "def deleteChars(str):\n",
    "    return str[:-3]\n",
    "\n",
    "#Inner join wrapper function on two datasets\n",
    "def dfIntersection(dataframe1, dataframe2):\n",
    "    return pd.merge(dataframe1, dataframe2, on=[\"Code\"], how=\"inner\")\n",
    "\n",
    "# Preprocessing + Combining Multiple Variables\n",
    "def fetchOnetDB(variables):\n",
    "    onetDB = pd.DataFrame()\n",
    "    for location,heading in variables.items():\n",
    "        data = pd.read_csv(\"data/\"+location)\n",
    "        if \"Importance\" in data.columns: \n",
    "            data.rename(columns={'Importance': heading}, inplace=True)\n",
    "            del data['Level']\n",
    "        if \"Context\" in data.columns: data.rename(columns={'Context': heading}, inplace=True)\n",
    "        if onetDB.empty: onetDB = data.copy()\n",
    "        else: onetDB = pd.merge(onetDB,data, on=['Code','Occupation'])\n",
    "    cols = onetDB.columns.to_list()\n",
    "    onetDB = onetDB[cols[1:3] + [cols[0]] + cols[3:]]\n",
    "    onetDB[\"Code\"] = onetDB[\"Code\"].apply(deleteChars)\n",
    "    return onetDB.copy()\n",
    "\n",
    "#Function to fetch required columns from SOC data\n",
    "def fetchSOCDB():\n",
    "    socDb = pd.DataFrame()\n",
    "    df = pd.read_csv(\"data/soc_data_2019.csv\", usecols = [\"own_code\", \"occ_code\", \"occ_title\", \"tot_emp\", \"jobs_1000_orig\", \"loc_quotient\", \"pct_total\", \"h_mean\", \"a_mean\", \"h_median\", \"a_median\"])\n",
    "    df.rename(columns={'occ_code': \"Code\"}, inplace=True)\n",
    "    df = df.drop_duplicates(subset=[\"occ_title\"])\n",
    "    return df\n",
    "\n",
    "#Fetch Ofxord research data\n",
    "def fetchOxfordDB():\n",
    "    ofxfordDB = pd.DataFrame()\n",
    "    df = pd.read_csv(\"data/oxford_data.csv\")\n",
    "    df.rename(columns={'code': \"Code\"}, inplace=True)\n",
    "    return df"
   ]
  },
  {
   "cell_type": "code",
   "execution_count": 42,
   "metadata": {
    "scrolled": true
   },
   "outputs": [],
   "source": [
    "onetVars = {\n",
    "    'Social_Perceptiveness.csv':'SP',\n",
    "    'Persuasion.csv':'P',\n",
    "    'Finger_Dexterity.csv':'FD',\n",
    "    'Originality.csv':'O',\n",
    "    'Assisting_and_Caring_for_Others.csv':'AC',\n",
    "    'Manual_Dexterity.csv':'MD',\n",
    "    'Cramped_Work_Space_Awkward_Positions.csv':'CW',\n",
    "    'Negotiation.csv':'N',\n",
    "    'Fine_Arts.csv':'FA'\n",
    "}\n",
    "\n",
    "onetDB = fetchOnetDB(onetVars)"
   ]
  },
  {
   "cell_type": "code",
   "execution_count": 47,
   "metadata": {},
   "outputs": [
    {
     "data": {
      "text/html": [
       "<div>\n",
       "<style scoped>\n",
       "    .dataframe tbody tr th:only-of-type {\n",
       "        vertical-align: middle;\n",
       "    }\n",
       "\n",
       "    .dataframe tbody tr th {\n",
       "        vertical-align: top;\n",
       "    }\n",
       "\n",
       "    .dataframe thead th {\n",
       "        text-align: right;\n",
       "    }\n",
       "</style>\n",
       "<table border=\"1\" class=\"dataframe\">\n",
       "  <thead>\n",
       "    <tr style=\"text-align: right;\">\n",
       "      <th></th>\n",
       "      <th>Code</th>\n",
       "      <th>Occupation</th>\n",
       "      <th>SP</th>\n",
       "      <th>P</th>\n",
       "      <th>FD</th>\n",
       "      <th>O</th>\n",
       "      <th>AC</th>\n",
       "      <th>MD</th>\n",
       "      <th>CW</th>\n",
       "      <th>N</th>\n",
       "      <th>FA</th>\n",
       "    </tr>\n",
       "  </thead>\n",
       "  <tbody>\n",
       "    <tr>\n",
       "      <th>643</th>\n",
       "      <td>15-1132</td>\n",
       "      <td>Software Developers, Applications</td>\n",
       "      <td>47</td>\n",
       "      <td>47</td>\n",
       "      <td>38</td>\n",
       "      <td>56</td>\n",
       "      <td>32</td>\n",
       "      <td>25</td>\n",
       "      <td>5</td>\n",
       "      <td>44</td>\n",
       "      <td>0</td>\n",
       "    </tr>\n",
       "  </tbody>\n",
       "</table>\n",
       "</div>"
      ],
      "text/plain": [
       "        Code                         Occupation  SP   P  FD   O  AC  MD  CW  \\\n",
       "643  15-1132  Software Developers, Applications  47  47  38  56  32  25   5   \n",
       "\n",
       "      N FA  \n",
       "643  44  0  "
      ]
     },
     "execution_count": 47,
     "metadata": {},
     "output_type": "execute_result"
    }
   ],
   "source": [
    "onetDB.loc[onetDB['Code'] == '15-1132']"
   ]
  },
  {
   "cell_type": "code",
   "execution_count": 43,
   "metadata": {},
   "outputs": [
    {
     "data": {
      "text/html": [
       "<div>\n",
       "<style scoped>\n",
       "    .dataframe tbody tr th:only-of-type {\n",
       "        vertical-align: middle;\n",
       "    }\n",
       "\n",
       "    .dataframe tbody tr th {\n",
       "        vertical-align: top;\n",
       "    }\n",
       "\n",
       "    .dataframe thead th {\n",
       "        text-align: right;\n",
       "    }\n",
       "</style>\n",
       "<table border=\"1\" class=\"dataframe\">\n",
       "  <thead>\n",
       "    <tr style=\"text-align: right;\">\n",
       "      <th></th>\n",
       "      <th>Code</th>\n",
       "      <th>Occupation</th>\n",
       "      <th>SP</th>\n",
       "      <th>P</th>\n",
       "      <th>FD</th>\n",
       "      <th>O</th>\n",
       "      <th>AC</th>\n",
       "      <th>MD</th>\n",
       "      <th>CW</th>\n",
       "      <th>N</th>\n",
       "      <th>FA</th>\n",
       "    </tr>\n",
       "  </thead>\n",
       "  <tbody>\n",
       "    <tr>\n",
       "      <th>0</th>\n",
       "      <td>19-3031</td>\n",
       "      <td>Counseling Psychologists</td>\n",
       "      <td>94</td>\n",
       "      <td>72</td>\n",
       "      <td>19</td>\n",
       "      <td>66</td>\n",
       "      <td>91</td>\n",
       "      <td>0</td>\n",
       "      <td>0</td>\n",
       "      <td>69</td>\n",
       "      <td>5</td>\n",
       "    </tr>\n",
       "    <tr>\n",
       "      <th>1</th>\n",
       "      <td>21-1014</td>\n",
       "      <td>Mental Health Counselors</td>\n",
       "      <td>94</td>\n",
       "      <td>66</td>\n",
       "      <td>28</td>\n",
       "      <td>60</td>\n",
       "      <td>94</td>\n",
       "      <td>0</td>\n",
       "      <td>3</td>\n",
       "      <td>56</td>\n",
       "      <td>15</td>\n",
       "    </tr>\n",
       "    <tr>\n",
       "      <th>2</th>\n",
       "      <td>19-3031</td>\n",
       "      <td>Clinical Psychologists</td>\n",
       "      <td>94</td>\n",
       "      <td>60</td>\n",
       "      <td>22</td>\n",
       "      <td>56</td>\n",
       "      <td>99</td>\n",
       "      <td>0</td>\n",
       "      <td>5</td>\n",
       "      <td>50</td>\n",
       "      <td>5</td>\n",
       "    </tr>\n",
       "    <tr>\n",
       "      <th>3</th>\n",
       "      <td>29-1066</td>\n",
       "      <td>Psychiatrists</td>\n",
       "      <td>88</td>\n",
       "      <td>63</td>\n",
       "      <td>35</td>\n",
       "      <td>56</td>\n",
       "      <td>99</td>\n",
       "      <td>0</td>\n",
       "      <td>6</td>\n",
       "      <td>56</td>\n",
       "      <td>5</td>\n",
       "    </tr>\n",
       "    <tr>\n",
       "      <th>4</th>\n",
       "      <td>21-1013</td>\n",
       "      <td>Marriage and Family Therapists</td>\n",
       "      <td>81</td>\n",
       "      <td>72</td>\n",
       "      <td>38</td>\n",
       "      <td>66</td>\n",
       "      <td>94</td>\n",
       "      <td>0</td>\n",
       "      <td>1</td>\n",
       "      <td>69</td>\n",
       "      <td>5</td>\n",
       "    </tr>\n",
       "  </tbody>\n",
       "</table>\n",
       "</div>"
      ],
      "text/plain": [
       "      Code                      Occupation  SP   P  FD   O  AC  MD  CW   N  FA\n",
       "0  19-3031        Counseling Psychologists  94  72  19  66  91   0   0  69   5\n",
       "1  21-1014        Mental Health Counselors  94  66  28  60  94   0   3  56  15\n",
       "2  19-3031          Clinical Psychologists  94  60  22  56  99   0   5  50   5\n",
       "3  29-1066                   Psychiatrists  88  63  35  56  99   0   6  56   5\n",
       "4  21-1013  Marriage and Family Therapists  81  72  38  66  94   0   1  69   5"
      ]
     },
     "execution_count": 43,
     "metadata": {},
     "output_type": "execute_result"
    }
   ],
   "source": [
    "onetDB.head()"
   ]
  },
  {
   "cell_type": "code",
   "execution_count": 29,
   "metadata": {
    "scrolled": true
   },
   "outputs": [
    {
     "name": "stderr",
     "output_type": "stream",
     "text": [
      "/Applications/anaconda3/lib/python3.7/site-packages/IPython/core/interactiveshell.py:3185: DtypeWarning: Columns (12,14) have mixed types.Specify dtype option on import or set low_memory=False.\n",
      "  if (yield from self.run_code(code, result)):\n"
     ]
    },
    {
     "name": "stdout",
     "output_type": "stream",
     "text": [
      "SOC Data Dimensions - (1064, 11)\n"
     ]
    },
    {
     "data": {
      "text/html": [
       "<div>\n",
       "<style scoped>\n",
       "    .dataframe tbody tr th:only-of-type {\n",
       "        vertical-align: middle;\n",
       "    }\n",
       "\n",
       "    .dataframe tbody tr th {\n",
       "        vertical-align: top;\n",
       "    }\n",
       "\n",
       "    .dataframe thead th {\n",
       "        text-align: right;\n",
       "    }\n",
       "</style>\n",
       "<table border=\"1\" class=\"dataframe\">\n",
       "  <thead>\n",
       "    <tr style=\"text-align: right;\">\n",
       "      <th></th>\n",
       "      <th>own_code</th>\n",
       "      <th>Code</th>\n",
       "      <th>occ_title</th>\n",
       "      <th>tot_emp</th>\n",
       "      <th>jobs_1000_orig</th>\n",
       "      <th>loc_quotient</th>\n",
       "      <th>pct_total</th>\n",
       "      <th>h_mean</th>\n",
       "      <th>a_mean</th>\n",
       "      <th>h_median</th>\n",
       "      <th>a_median</th>\n",
       "    </tr>\n",
       "  </thead>\n",
       "  <tbody>\n",
       "    <tr>\n",
       "      <th>0</th>\n",
       "      <td>1235</td>\n",
       "      <td>11-0000</td>\n",
       "      <td>Management Occupations</td>\n",
       "      <td>80,54,120</td>\n",
       "      <td>NaN</td>\n",
       "      <td>NaN</td>\n",
       "      <td>NaN</td>\n",
       "      <td>58.88</td>\n",
       "      <td>1,22,480</td>\n",
       "      <td>50.80</td>\n",
       "      <td>1,05,660</td>\n",
       "    </tr>\n",
       "    <tr>\n",
       "      <th>1</th>\n",
       "      <td>1235</td>\n",
       "      <td>13-0000</td>\n",
       "      <td>Business and Financial Operations Occupations</td>\n",
       "      <td>81,83,750</td>\n",
       "      <td>NaN</td>\n",
       "      <td>NaN</td>\n",
       "      <td>NaN</td>\n",
       "      <td>37.56</td>\n",
       "      <td>78,130</td>\n",
       "      <td>33.57</td>\n",
       "      <td>69,820</td>\n",
       "    </tr>\n",
       "    <tr>\n",
       "      <th>2</th>\n",
       "      <td>1235</td>\n",
       "      <td>15-0000</td>\n",
       "      <td>Computer and Mathematical Occupations</td>\n",
       "      <td>45,52,880</td>\n",
       "      <td>NaN</td>\n",
       "      <td>NaN</td>\n",
       "      <td>NaN</td>\n",
       "      <td>45.08</td>\n",
       "      <td>93,760</td>\n",
       "      <td>42.47</td>\n",
       "      <td>88,340</td>\n",
       "    </tr>\n",
       "    <tr>\n",
       "      <th>3</th>\n",
       "      <td>1235</td>\n",
       "      <td>17-0000</td>\n",
       "      <td>Architecture and Engineering Occupations</td>\n",
       "      <td>25,92,680</td>\n",
       "      <td>NaN</td>\n",
       "      <td>NaN</td>\n",
       "      <td>NaN</td>\n",
       "      <td>42.69</td>\n",
       "      <td>88,800</td>\n",
       "      <td>39.15</td>\n",
       "      <td>81,440</td>\n",
       "    </tr>\n",
       "    <tr>\n",
       "      <th>4</th>\n",
       "      <td>1235</td>\n",
       "      <td>19-0000</td>\n",
       "      <td>Life, Physical, and Social Science Occupations</td>\n",
       "      <td>12,88,920</td>\n",
       "      <td>NaN</td>\n",
       "      <td>NaN</td>\n",
       "      <td>NaN</td>\n",
       "      <td>37.28</td>\n",
       "      <td>77,540</td>\n",
       "      <td>32.77</td>\n",
       "      <td>68,160</td>\n",
       "    </tr>\n",
       "  </tbody>\n",
       "</table>\n",
       "</div>"
      ],
      "text/plain": [
       "   own_code     Code                                       occ_title  \\\n",
       "0      1235  11-0000                          Management Occupations   \n",
       "1      1235  13-0000   Business and Financial Operations Occupations   \n",
       "2      1235  15-0000           Computer and Mathematical Occupations   \n",
       "3      1235  17-0000        Architecture and Engineering Occupations   \n",
       "4      1235  19-0000  Life, Physical, and Social Science Occupations   \n",
       "\n",
       "     tot_emp jobs_1000_orig  loc_quotient pct_total h_mean    a_mean h_median  \\\n",
       "0  80,54,120            NaN           NaN       NaN  58.88  1,22,480    50.80   \n",
       "1  81,83,750            NaN           NaN       NaN  37.56    78,130    33.57   \n",
       "2  45,52,880            NaN           NaN       NaN  45.08    93,760    42.47   \n",
       "3  25,92,680            NaN           NaN       NaN  42.69    88,800    39.15   \n",
       "4  12,88,920            NaN           NaN       NaN  37.28    77,540    32.77   \n",
       "\n",
       "   a_median  \n",
       "0  1,05,660  \n",
       "1    69,820  \n",
       "2    88,340  \n",
       "3    81,440  \n",
       "4    68,160  "
      ]
     },
     "execution_count": 29,
     "metadata": {},
     "output_type": "execute_result"
    }
   ],
   "source": [
    "socDB = fetchSOCDB()\n",
    "print(\"SOC Data Dimensions - \"+str(socDB.shape))"
   ]
  },
  {
   "cell_type": "code",
   "execution_count": 46,
   "metadata": {},
   "outputs": [
    {
     "name": "stdout",
     "output_type": "stream",
     "text": [
      "ONET + SOC data intersection Dimensions - (793, 21)\n"
     ]
    }
   ],
   "source": [
    "ONETSOCDB = dfIntersection(socDB, onetDB)\n",
    "print(\"ONET + SOC data intersection Dimensions - \"+str(ONETSOCDB.shape))\n"
   ]
  },
  {
   "cell_type": "code",
   "execution_count": 68,
   "metadata": {},
   "outputs": [
    {
     "name": "stdout",
     "output_type": "stream",
     "text": [
      "Oxford data Dimensions - (702, 5)\n"
     ]
    }
   ],
   "source": [
    "oxfordDB = fetchOxfordDB()\n",
    "print(\"Oxford data Dimensions - \"+str(oxfordDB.shape))"
   ]
  },
  {
   "cell_type": "code",
   "execution_count": 67,
   "metadata": {},
   "outputs": [
    {
     "data": {
      "text/plain": [
       "(42, 15)"
      ]
     },
     "execution_count": 67,
     "metadata": {},
     "output_type": "execute_result"
    }
   ],
   "source": [
    "onetOxfordDB = dfIntersection(oxfordDB, onetDB)\n",
    "#type(onetOxfordDB)\n",
    "onetOxfordDB = onetOxfordDB.loc[onetOxfordDB[\"label\"] == 1]\n",
    "onetOxfordDB.shape\n"
   ]
  },
  {
   "cell_type": "code",
   "execution_count": null,
   "metadata": {},
   "outputs": [],
   "source": []
  }
 ],
 "metadata": {
  "kernelspec": {
   "display_name": "Python 3",
   "language": "python",
   "name": "python3"
  },
  "language_info": {
   "codemirror_mode": {
    "name": "ipython",
    "version": 3
   },
   "file_extension": ".py",
   "mimetype": "text/x-python",
   "name": "python",
   "nbconvert_exporter": "python",
   "pygments_lexer": "ipython3",
   "version": "3.7.1"
  }
 },
 "nbformat": 4,
 "nbformat_minor": 2
}
